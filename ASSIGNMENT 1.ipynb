{
 "cells": [
  {
   "cell_type": "markdown",
   "id": "20715ae0",
   "metadata": {},
   "source": [
    "#                                    ASSIGNMENT = 1"
   ]
  },
  {
   "cell_type": "markdown",
   "id": "1eb3b86b",
   "metadata": {},
   "source": [
    "Q.1) In the below elements which of them are values or an expression? eg:- values can be integer or string and expressions will be mathematical operators.\n",
    "*\n",
    "'hello'\n",
    "-87.8\n",
    "- \n",
    "/ \n",
    "+\t\n",
    "6 \n"
   ]
  },
  {
   "cell_type": "markdown",
   "id": "59d78dd2",
   "metadata": {},
   "source": [
    "ANS.)____VALUES = 'hello', -87.8, 6           \n",
    "____expression = * , - , + , /"
   ]
  },
  {
   "cell_type": "markdown",
   "id": "707287f5",
   "metadata": {},
   "source": [
    "Q.2) What is the difference between string and variable?"
   ]
  },
  {
   "cell_type": "markdown",
   "id": "dc7b9ea8",
   "metadata": {},
   "source": [
    "variable = Variable is container in which we can store the information or a value.eg.  R = 4, where (R)is a variable and (4) is value which is stored in R.\n",
    "string = string is type of value you store in variable. "
   ]
  },
  {
   "cell_type": "markdown",
   "id": "15c5661c",
   "metadata": {},
   "source": [
    "Q.3). Describe three different data types."
   ]
  },
  {
   "cell_type": "markdown",
   "id": "1d922583",
   "metadata": {},
   "source": [
    "ANS.) the three different types of data type are as follows: \n",
    "    1.) Integer = here the type of value we store in the variable is numeric in nature . it wilbe positive and negative whole number.\n",
    "eg= 43,23,-54,+65 etc.\n",
    "    2.) string = string is the alpabetic type of value save in a varible.  A string is a collection of one or more characters put in a single quote, double-quote or triple quote.\n",
    "    eg. r = \"riya\" etc.\n",
    "    3.) complex number = Complex number is represented by complex class. It is specified as (real part) + (imaginary part)y. For example – 4+5y"
   ]
  },
  {
   "cell_type": "markdown",
   "id": "f2a1e8f9",
   "metadata": {},
   "source": [
    "Q.4)What is an expression made up of? What do all expressions do?"
   ]
  },
  {
   "cell_type": "markdown",
   "id": "0b9949bc",
   "metadata": {},
   "source": [
    "ANS.) expression is made up of combination of operators, variables, literals, identifiers. An expression operands that is interpreted to produce some other value.A expression is evaluated as per the precedence of its operators."
   ]
  },
  {
   "cell_type": "markdown",
   "id": "2dacef6a",
   "metadata": {},
   "source": [
    "Q.5)This assignment statements, like spam = 10. What is the difference between an expression and a statement?"
   ]
  },
  {
   "cell_type": "markdown",
   "id": "5375f3eb",
   "metadata": {},
   "source": [
    "Expression is made up of values, containers, and mathematical operators (operands) and the statement is just like a command that a python interpreter executes like print."
   ]
  },
  {
   "cell_type": "markdown",
   "id": "3e30d17d",
   "metadata": {},
   "source": [
    "Q.6.) After running the following code, what does the variable bacon contain?\n",
    "bacon = 22\n",
    "bacon + 1\n"
   ]
  },
  {
   "cell_type": "markdown",
   "id": "ebe84093",
   "metadata": {},
   "source": [
    "ANS.) 23"
   ]
  },
  {
   "cell_type": "code",
   "execution_count": 4,
   "id": "2665404c",
   "metadata": {},
   "outputs": [],
   "source": [
    "baccon = 22\n"
   ]
  },
  {
   "cell_type": "code",
   "execution_count": 6,
   "id": "3fc8411d",
   "metadata": {},
   "outputs": [
    {
     "data": {
      "text/plain": [
       "23"
      ]
     },
     "execution_count": 6,
     "metadata": {},
     "output_type": "execute_result"
    }
   ],
   "source": [
    "baccon +1"
   ]
  },
  {
   "cell_type": "markdown",
   "id": "af3a9626",
   "metadata": {},
   "source": [
    "Q.7)  What should the values of the following two terms be?\n",
    "'spam' + 'spamspam'\n",
    "'spam' * 3\n"
   ]
  },
  {
   "cell_type": "code",
   "execution_count": 1,
   "id": "1def91ff",
   "metadata": {},
   "outputs": [
    {
     "data": {
      "text/plain": [
       "'spamspamspam'"
      ]
     },
     "execution_count": 1,
     "metadata": {},
     "output_type": "execute_result"
    }
   ],
   "source": [
    "'spam' + 'spamspam'"
   ]
  },
  {
   "cell_type": "code",
   "execution_count": 2,
   "id": "e20fe1e5",
   "metadata": {},
   "outputs": [
    {
     "data": {
      "text/plain": [
       "'spamspamspam'"
      ]
     },
     "execution_count": 2,
     "metadata": {},
     "output_type": "execute_result"
    }
   ],
   "source": [
    "'spam' * 3"
   ]
  },
  {
   "cell_type": "markdown",
   "id": "b30e037e",
   "metadata": {},
   "source": [
    "Q.8) Why is eggs a valid variable name while 100 is invalid?"
   ]
  },
  {
   "cell_type": "markdown",
   "id": "eeefeca2",
   "metadata": {},
   "source": [
    "Because  a variable cannot start by integer.variable should always start with an alphabet followed by integer. eg -:"
   ]
  },
  {
   "cell_type": "code",
   "execution_count": 3,
   "id": "e71e42d8",
   "metadata": {},
   "outputs": [],
   "source": [
    "a10 = 96"
   ]
  },
  {
   "cell_type": "code",
   "execution_count": 4,
   "id": "e89f4c53",
   "metadata": {},
   "outputs": [
    {
     "data": {
      "text/plain": [
       "96"
      ]
     },
     "execution_count": 4,
     "metadata": {},
     "output_type": "execute_result"
    }
   ],
   "source": [
    "a10"
   ]
  },
  {
   "cell_type": "markdown",
   "id": "1de87721",
   "metadata": {},
   "source": [
    "Q.9) What three functions can be used to get the integer, floating-point number, or string version of a value?"
   ]
  },
  {
   "cell_type": "markdown",
   "id": "b36118c7",
   "metadata": {},
   "source": [
    "ANS.) float(), str(),int()"
   ]
  },
  {
   "cell_type": "markdown",
   "id": "65bdf726",
   "metadata": {},
   "source": [
    "Q.10) Why does this expression cause an error? How can you fix it?\n",
    "'I have eaten ' + 99 + ' burritos.'"
   ]
  },
  {
   "cell_type": "markdown",
   "id": "14d18d42",
   "metadata": {},
   "source": [
    "ANS.)"
   ]
  },
  {
   "cell_type": "code",
   "execution_count": 7,
   "id": "2818a674",
   "metadata": {},
   "outputs": [
    {
     "data": {
      "text/plain": [
       "'I have eaten 99 burritos.'"
      ]
     },
     "execution_count": 7,
     "metadata": {},
     "output_type": "execute_result"
    }
   ],
   "source": [
    "'I have eaten ' + str(99) + ' burritos.'"
   ]
  },
  {
   "cell_type": "code",
   "execution_count": null,
   "id": "0f487feb",
   "metadata": {},
   "outputs": [],
   "source": []
  }
 ],
 "metadata": {
  "kernelspec": {
   "display_name": "Python 3",
   "language": "python",
   "name": "python3"
  },
  "language_info": {
   "codemirror_mode": {
    "name": "ipython",
    "version": 3
   },
   "file_extension": ".py",
   "mimetype": "text/x-python",
   "name": "python",
   "nbconvert_exporter": "python",
   "pygments_lexer": "ipython3",
   "version": "3.8.8"
  }
 },
 "nbformat": 4,
 "nbformat_minor": 5
}
