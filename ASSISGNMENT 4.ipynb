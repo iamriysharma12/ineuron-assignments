{
 "cells": [
  {
   "cell_type": "markdown",
   "id": "22e8a6f7",
   "metadata": {},
   "source": [
    "### 1. What exactly is []?"
   ]
  },
  {
   "cell_type": "markdown",
   "id": "4702c972",
   "metadata": {},
   "source": [
    "It is considered as empty string value."
   ]
  },
  {
   "cell_type": "markdown",
   "id": "a3a4d516",
   "metadata": {},
   "source": [
    "#### 2. In a list of values stored in a variable called spam, how would you assign the value 'hello' as the third value? (Assume [2, 4, 6, 8, 10] are in spam.)"
   ]
  },
  {
   "cell_type": "code",
   "execution_count": 6,
   "id": "5778d0e1",
   "metadata": {},
   "outputs": [
    {
     "data": {
      "text/plain": [
       "[2, 4, 'hello', 8, 10]"
      ]
     },
     "execution_count": 6,
     "metadata": {},
     "output_type": "execute_result"
    }
   ],
   "source": [
    "spam = [2,4,6,8,10]\n",
    "spam[2]='hello'\n",
    "spam"
   ]
  },
  {
   "cell_type": "markdown",
   "id": "4feda9b8",
   "metadata": {},
   "source": [
    "#### Let's pretend the spam includes the list ['a', 'b', 'c', 'd'] for the next three queries.\n",
    "\n"
   ]
  },
  {
   "cell_type": "markdown",
   "id": "e78b9441",
   "metadata": {},
   "source": [
    "3. What is the value of spam[int(int('3' * 2) / 11)]?"
   ]
  },
  {
   "cell_type": "code",
   "execution_count": 11,
   "id": "434d6529",
   "metadata": {},
   "outputs": [
    {
     "data": {
      "text/plain": [
       "'d'"
      ]
     },
     "execution_count": 11,
     "metadata": {},
     "output_type": "execute_result"
    }
   ],
   "source": [
    "spam =['a','b','c','d']\n",
    "spam[int(int('3' * 2) / 11)]"
   ]
  },
  {
   "cell_type": "markdown",
   "id": "a29b71b5",
   "metadata": {},
   "source": [
    "4. What is the value of spam[-1]?"
   ]
  },
  {
   "cell_type": "code",
   "execution_count": 9,
   "id": "b53be6de",
   "metadata": {},
   "outputs": [
    {
     "data": {
      "text/plain": [
       "'d'"
      ]
     },
     "execution_count": 9,
     "metadata": {},
     "output_type": "execute_result"
    }
   ],
   "source": [
    "spam[-1]"
   ]
  },
  {
   "cell_type": "markdown",
   "id": "ce899e4f",
   "metadata": {},
   "source": [
    "5. what is the value of spam[:2]?"
   ]
  },
  {
   "cell_type": "code",
   "execution_count": 10,
   "id": "320c8182",
   "metadata": {},
   "outputs": [
    {
     "data": {
      "text/plain": [
       "['a', 'b']"
      ]
     },
     "execution_count": 10,
     "metadata": {},
     "output_type": "execute_result"
    }
   ],
   "source": [
    "spam[:2]"
   ]
  },
  {
   "cell_type": "markdown",
   "id": "db9e7e86",
   "metadata": {},
   "source": [
    "##### Let's pretend bacon has the list [3.14, 'cat,' 11, 'cat,' True] for the next three questions.\n",
    "\n"
   ]
  },
  {
   "cell_type": "markdown",
   "id": "f68a252f",
   "metadata": {},
   "source": [
    "#### 6. What is the value of bacon.index('cat')?"
   ]
  },
  {
   "cell_type": "code",
   "execution_count": 13,
   "id": "6dc57a31",
   "metadata": {},
   "outputs": [
    {
     "data": {
      "text/plain": [
       "1"
      ]
     },
     "execution_count": 13,
     "metadata": {},
     "output_type": "execute_result"
    }
   ],
   "source": [
    "bacon = [3.14,'cat',11,'cat','True']\n",
    "bacon.index('cat')\n"
   ]
  },
  {
   "cell_type": "markdown",
   "id": "f51ad401",
   "metadata": {},
   "source": [
    "##### 7. How does bacon.append(99) change the look of the list value in bacon?"
   ]
  },
  {
   "cell_type": "code",
   "execution_count": 22,
   "id": "6d2ef76d",
   "metadata": {},
   "outputs": [],
   "source": [
    "bacon.append(99)"
   ]
  },
  {
   "cell_type": "code",
   "execution_count": 23,
   "id": "a2f7a18e",
   "metadata": {},
   "outputs": [
    {
     "data": {
      "text/plain": [
       "[3.14, 'cat', 11, 'cat', 'True', 99]"
      ]
     },
     "execution_count": 23,
     "metadata": {},
     "output_type": "execute_result"
    }
   ],
   "source": [
    "bacon"
   ]
  },
  {
   "cell_type": "markdown",
   "id": "2b197638",
   "metadata": {},
   "source": [
    "##### 8. How does bacon.remove('cat') change the look of the list in bacon?"
   ]
  },
  {
   "cell_type": "code",
   "execution_count": 24,
   "id": "6537bb6b",
   "metadata": {},
   "outputs": [],
   "source": [
    "bacon.remove('cat')"
   ]
  },
  {
   "cell_type": "code",
   "execution_count": 25,
   "id": "f9edb4bd",
   "metadata": {},
   "outputs": [
    {
     "data": {
      "text/plain": [
       "[3.14, 11, 'cat', 'True', 99]"
      ]
     },
     "execution_count": 25,
     "metadata": {},
     "output_type": "execute_result"
    }
   ],
   "source": [
    "bacon"
   ]
  },
  {
   "cell_type": "markdown",
   "id": "7fd3398f",
   "metadata": {},
   "source": [
    "#### 9. What are the list concatenation and list replication operators?"
   ]
  },
  {
   "cell_type": "markdown",
   "id": "0ec1e7ee",
   "metadata": {},
   "source": [
    "list concatentation is an operator used for adding the two list's variable together."
   ]
  },
  {
   "cell_type": "code",
   "execution_count": 26,
   "id": "4edaca27",
   "metadata": {},
   "outputs": [
    {
     "data": {
      "text/plain": [
       "'hello everyone '"
      ]
     },
     "execution_count": 26,
     "metadata": {},
     "output_type": "execute_result"
    }
   ],
   "source": [
    "x='hello '\n",
    "y='everyone '\n",
    "x+y"
   ]
  },
  {
   "cell_type": "markdown",
   "id": "32795853",
   "metadata": {},
   "source": [
    "list replication operator is used for replication of list a given numbers of time."
   ]
  },
  {
   "cell_type": "markdown",
   "id": "e62fecc4",
   "metadata": {},
   "source": [
    "##### 10. What is difference between the list methods append() and insert()? "
   ]
  },
  {
   "cell_type": "markdown",
   "id": "36081bb4",
   "metadata": {},
   "source": [
    "the difference btw lidt method append and insert is that apppend use to add any new element to the list always at the last \n",
    "index of list and with the insert method we csn insert any element at any index you wish to add it."
   ]
  },
  {
   "cell_type": "markdown",
   "id": "4da8b7c3",
   "metadata": {},
   "source": [
    "#### 11. What are the two methods for removing items from a list?"
   ]
  },
  {
   "cell_type": "markdown",
   "id": "21835cff",
   "metadata": {},
   "source": [
    "1. remove()\n",
    "2. pop()\n",
    "3.clear()"
   ]
  },
  {
   "cell_type": "markdown",
   "id": "4424d305",
   "metadata": {},
   "source": [
    "#### 12. Describe how list values and string values are identical."
   ]
  },
  {
   "cell_type": "code",
   "execution_count": 30,
   "id": "a813b848",
   "metadata": {},
   "outputs": [
    {
     "data": {
      "text/plain": [
       "list"
      ]
     },
     "execution_count": 30,
     "metadata": {},
     "output_type": "execute_result"
    }
   ],
   "source": [
    "list =[1,2,3,4,5]\n",
    "type(list)"
   ]
  },
  {
   "cell_type": "code",
   "execution_count": 34,
   "id": "7ad299d9",
   "metadata": {},
   "outputs": [
    {
     "data": {
      "text/plain": [
       "list"
      ]
     },
     "execution_count": 34,
     "metadata": {},
     "output_type": "execute_result"
    }
   ],
   "source": [
    "string=[1,'cat',2,'riya',3]\n",
    "type(string)"
   ]
  },
  {
   "cell_type": "code",
   "execution_count": 35,
   "id": "53a5e430",
   "metadata": {},
   "outputs": [
    {
     "data": {
      "text/plain": [
       "str"
      ]
     },
     "execution_count": 35,
     "metadata": {},
     "output_type": "execute_result"
    }
   ],
   "source": [
    "string =\"hello riya\"\n",
    "type(string)"
   ]
  },
  {
   "cell_type": "markdown",
   "id": "5936fe9e",
   "metadata": {},
   "source": [
    "above its clear that list values are orderd sequence of object type and string is ordered sequence of character type."
   ]
  },
  {
   "cell_type": "markdown",
   "id": "75df8dda",
   "metadata": {},
   "source": [
    "#### 13. What's the difference between tuples and lists?"
   ]
  },
  {
   "cell_type": "markdown",
   "id": "ee06a925",
   "metadata": {},
   "source": [
    "difference btw tuple and list are that list is mutable ,as we can insert ,delete elements in the list\n",
    "whereas in tuples is considered to be immutable."
   ]
  },
  {
   "cell_type": "markdown",
   "id": "19dc1793",
   "metadata": {},
   "source": [
    "#### 14. How do you type a tuple value that only contains the integer 42?"
   ]
  },
  {
   "cell_type": "code",
   "execution_count": 56,
   "id": "1d7ae7ae",
   "metadata": {},
   "outputs": [
    {
     "data": {
      "text/plain": [
       "42"
      ]
     },
     "execution_count": 56,
     "metadata": {},
     "output_type": "execute_result"
    }
   ],
   "source": [
    "tuple1 =(42)\n",
    "tuple1"
   ]
  },
  {
   "cell_type": "markdown",
   "id": "08ed0f29",
   "metadata": {},
   "source": [
    "#### 15. How do you get a list value's tuple form? How do you get a tuple value's list form?"
   ]
  },
  {
   "cell_type": "code",
   "execution_count": 64,
   "id": "e54d0015",
   "metadata": {},
   "outputs": [
    {
     "data": {
      "text/plain": [
       "(4, 5, 6)"
      ]
     },
     "execution_count": 64,
     "metadata": {},
     "output_type": "execute_result"
    }
   ],
   "source": [
    "l=[4,5,6]\n",
    "\n",
    "tuple(l)"
   ]
  },
  {
   "cell_type": "code",
   "execution_count": 69,
   "id": "e1c7e174",
   "metadata": {},
   "outputs": [
    {
     "data": {
      "text/plain": [
       "[6, 89, 100]"
      ]
     },
     "execution_count": 69,
     "metadata": {},
     "output_type": "execute_result"
    }
   ],
   "source": [
    "t=(6,89,100)\n",
    "list(t)"
   ]
  },
  {
   "cell_type": "markdown",
   "id": "ac9f421d",
   "metadata": {},
   "source": [
    "#### 16. Variables that \"contain\" list values are not necessarily lists themselves. Instead, what do they contain?"
   ]
  },
  {
   "cell_type": "markdown",
   "id": "54c81038",
   "metadata": {},
   "source": [
    "they contain reference of list values."
   ]
  },
  {
   "cell_type": "markdown",
   "id": "0ed635d0",
   "metadata": {},
   "source": [
    "#### 17. How do you distinguish between copy.copy() and copy.deepcopy()?"
   ]
  },
  {
   "cell_type": "markdown",
   "id": "29fecfdb",
   "metadata": {},
   "source": [
    "copy creates the REFERENCE OF orignal object so, if you make changes in copyed\n",
    "object the orginal object will also change and in deep copy new object is created there the original object does not get harmed."
   ]
  },
  {
   "cell_type": "code",
   "execution_count": null,
   "id": "8bb5a586",
   "metadata": {},
   "outputs": [],
   "source": []
  }
 ],
 "metadata": {
  "kernelspec": {
   "display_name": "Python 3 (ipykernel)",
   "language": "python",
   "name": "python3"
  },
  "language_info": {
   "codemirror_mode": {
    "name": "ipython",
    "version": 3
   },
   "file_extension": ".py",
   "mimetype": "text/x-python",
   "name": "python",
   "nbconvert_exporter": "python",
   "pygments_lexer": "ipython3",
   "version": "3.9.12"
  }
 },
 "nbformat": 4,
 "nbformat_minor": 5
}
