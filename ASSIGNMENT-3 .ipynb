{
 "cells": [
  {
   "cell_type": "markdown",
   "id": "cf899b14",
   "metadata": {},
   "source": [
    " 1.) Why are functions advantageous to have in your programs?"
   ]
  },
  {
   "cell_type": "markdown",
   "id": "23db7fee",
   "metadata": {},
   "source": [
    "ans.) functions are pre- build codes that basically helps to reduce the code wrting in a program .reduce the duplicate code, that helps easy to update ,faster and reduce the errors in program."
   ]
  },
  {
   "cell_type": "markdown",
   "id": "d4a2a22b",
   "metadata": {},
   "source": [
    "2.) When does the code in a function run: when it's specified or when it's called?"
   ]
  },
  {
   "cell_type": "markdown",
   "id": "5d0aea14",
   "metadata": {},
   "source": [
    "ans.) when function is called."
   ]
  },
  {
   "cell_type": "markdown",
   "id": "aa097ca2",
   "metadata": {},
   "source": [
    "3.) What statement creates a function?"
   ]
  },
  {
   "cell_type": "markdown",
   "id": "5fde530d",
   "metadata": {},
   "source": [
    "ans.)  'def'is a keyword that is used define the function follwed by the name of the function and arguments inside the bracket and using \" : \" at the last."
   ]
  },
  {
   "cell_type": "markdown",
   "id": "48df7b67",
   "metadata": {},
   "source": [
    "4. What is the difference between a function and a function call?"
   ]
  },
  {
   "cell_type": "markdown",
   "id": "77dbc46d",
   "metadata": {},
   "source": [
    "ans.)function call = functing calling means passing control and arguments to execute the code and return the result .whereas, fucntion means a block of code which does a particular operation and returns a result."
   ]
  },
  {
   "cell_type": "markdown",
   "id": "2dca8d21",
   "metadata": {},
   "source": [
    "ans.)function call = function calling means passing control and arguments to function .whereas, function means a block of code which does a particular operation and returns a result."
   ]
  },
  {
   "cell_type": "markdown",
   "id": "758e7625",
   "metadata": {},
   "source": [
    "5. How many global scopes are there in a Python program? How many local scopes?"
   ]
  },
  {
   "cell_type": "markdown",
   "id": "a9972bda",
   "metadata": {},
   "source": [
    "Ans.)the scope of the global variable is in the entire program , there is only one global scope in python program whereas the scope of the local variable in limited to the function and there is one local scope in python program."
   ]
  },
  {
   "cell_type": "markdown",
   "id": "6c1b4833",
   "metadata": {},
   "source": [
    "6. What happens to variables in a local scope when the function call returns?"
   ]
  },
  {
   "cell_type": "markdown",
   "id": "1f34bce1",
   "metadata": {},
   "source": [
    "Ans.) the variable get distroyed."
   ]
  },
  {
   "cell_type": "markdown",
   "id": "fe6043db",
   "metadata": {},
   "source": [
    "7. What is the concept of a return value? Is it possible to have a return value in an expression?"
   ]
  },
  {
   "cell_type": "markdown",
   "id": "7847c865",
   "metadata": {},
   "source": [
    "Ans.) Return is the value the fucntion returns when the calling of function is executed to the end of the program.yes in python it is possible to have a return value in an expression, as in python everything is object."
   ]
  },
  {
   "cell_type": "markdown",
   "id": "499baa5a",
   "metadata": {},
   "source": [
    "8. If a function does not have a return statement, what is the return value of a call to that function?"
   ]
  },
  {
   "cell_type": "markdown",
   "id": "85058597",
   "metadata": {},
   "source": [
    "ANs.) if there is not a return statement in function,then NONE will be the value of return of call to the function."
   ]
  },
  {
   "cell_type": "markdown",
   "id": "4fa82b9d",
   "metadata": {},
   "source": [
    "9. How do you make a function variable refer to the global variable?"
   ]
  },
  {
   "cell_type": "markdown",
   "id": "b418a633",
   "metadata": {},
   "source": [
    "ANS.) By defining arguments(variables) inside the scope of global function.use global keyword to declare the variable."
   ]
  },
  {
   "cell_type": "markdown",
   "id": "d130938c",
   "metadata": {},
   "source": [
    "10. What is the data type of None?"
   ]
  },
  {
   "cell_type": "markdown",
   "id": "de28a238",
   "metadata": {},
   "source": [
    "ans.)none is data type of its own.(None datatype)"
   ]
  },
  {
   "cell_type": "markdown",
   "id": "9b725fd5",
   "metadata": {},
   "source": [
    "11.) What does the sentence import areallyourpetsnamederic do?"
   ]
  },
  {
   "cell_type": "markdown",
   "id": "a4d93a43",
   "metadata": {},
   "source": [
    "ans.) That import statement imports a module named areallyourpetsnamederic. (This isn’t a real Python module, by the way.)"
   ]
  },
  {
   "cell_type": "markdown",
   "id": "9681b31d",
   "metadata": {},
   "source": [
    "12. If you had a bacon() feature in a spam module, what would you call it after importing spam?"
   ]
  },
  {
   "cell_type": "markdown",
   "id": "4cb75c2c",
   "metadata": {},
   "source": [
    "Ans.) we can call it as spam.bacon()."
   ]
  },
  {
   "cell_type": "markdown",
   "id": "826de5e7",
   "metadata": {},
   "source": [
    "13. What can you do to save a programme from crashing if it encounters an error?"
   ]
  },
  {
   "cell_type": "markdown",
   "id": "17f0db50",
   "metadata": {},
   "source": [
    "Ans.) place the line which might cause an error in the try clause."
   ]
  },
  {
   "cell_type": "markdown",
   "id": "fc8a0332",
   "metadata": {},
   "source": [
    "14.)What is the purpose of the try clause? What is the purpose of the except clause?"
   ]
  },
  {
   "cell_type": "markdown",
   "id": "1cb66aac",
   "metadata": {},
   "source": [
    "Ans.)The purpose of try clause to test the block of code for errors. and the purpose of except clause is to handle the error. "
   ]
  },
  {
   "cell_type": "code",
   "execution_count": null,
   "id": "446d83c9",
   "metadata": {},
   "outputs": [],
   "source": []
  }
 ],
 "metadata": {
  "kernelspec": {
   "display_name": "Python 3",
   "language": "python",
   "name": "python3"
  },
  "language_info": {
   "codemirror_mode": {
    "name": "ipython",
    "version": 3
   },
   "file_extension": ".py",
   "mimetype": "text/x-python",
   "name": "python",
   "nbconvert_exporter": "python",
   "pygments_lexer": "ipython3",
   "version": "3.8.8"
  }
 },
 "nbformat": 4,
 "nbformat_minor": 5
}
