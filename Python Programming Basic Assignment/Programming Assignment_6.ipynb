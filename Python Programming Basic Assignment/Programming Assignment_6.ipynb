{
 "cells": [
  {
   "cell_type": "markdown",
   "id": "48212818",
   "metadata": {},
   "source": [
    "1.\tWrite a Python Program to Display Fibonacci Sequence Using Recursion?"
   ]
  },
  {
   "cell_type": "code",
   "execution_count": 1,
   "id": "11efa535",
   "metadata": {},
   "outputs": [
    {
     "name": "stdout",
     "output_type": "stream",
     "text": [
      "0\n",
      "1\n",
      "1\n",
      "2\n",
      "3\n"
     ]
    }
   ],
   "source": [
    "def fib(n):\n",
    "    a = 0\n",
    "    b = 1\n",
    "    print(a)\n",
    "    print(b)\n",
    "    for i in range(2,n):\n",
    "        c = a+b\n",
    "        a = b\n",
    "        b = c\n",
    "        print(c)\n",
    "fib(5)"
   ]
  },
  {
   "cell_type": "markdown",
   "id": "a1a055d8",
   "metadata": {},
   "source": [
    "2.\tWrite a Python Program to Find Factorial of Number Using Recursion?"
   ]
  },
  {
   "cell_type": "code",
   "execution_count": 2,
   "id": "c20469ad",
   "metadata": {},
   "outputs": [
    {
     "name": "stdout",
     "output_type": "stream",
     "text": [
      "enter the num: 5\n",
      "120\n"
     ]
    }
   ],
   "source": [
    "def Factorial(num):\n",
    "    if num == 1:\n",
    "        return num\n",
    "    else:\n",
    "        return num* Factorial(num-1)\n",
    "num = int(input(\"enter the num: \"))\n",
    "if num <0:\n",
    "    print(\"invalid number\")\n",
    "elif num ==0:\n",
    "    print(\"factorial is 1.\")\n",
    "else:\n",
    "    print(Factorial(num))"
   ]
  },
  {
   "cell_type": "markdown",
   "id": "4f6aea06",
   "metadata": {},
   "source": [
    "3.\tWrite a Python Program to calculate your Body Mass Index?"
   ]
  },
  {
   "cell_type": "code",
   "execution_count": 5,
   "id": "3dde2735",
   "metadata": {},
   "outputs": [
    {
     "name": "stdout",
     "output_type": "stream",
     "text": [
      "enter the weight: 65\n",
      "enter the height: 165\n",
      "BMI is  23.875114784205696\n"
     ]
    }
   ],
   "source": [
    "weight = float(input(\"enter the weight: \"))\n",
    "height = float(input(\"enter the height: \"))\n",
    "m = (height/100)**2\n",
    "bmi = weight/m\n",
    "print(\"BMI is \",bmi)"
   ]
  },
  {
   "cell_type": "markdown",
   "id": "4a604910",
   "metadata": {},
   "source": [
    "4.\tWrite a Python Program to calculate the natural logarithm of any number?"
   ]
  },
  {
   "cell_type": "code",
   "execution_count": 6,
   "id": "861ca3d5",
   "metadata": {},
   "outputs": [
    {
     "name": "stdout",
     "output_type": "stream",
     "text": [
      "enter the num: 14\n",
      "log of  14 is :  1.6397385131955606\n"
     ]
    }
   ],
   "source": [
    "import math\n",
    "num = int(input(\"enter the num: \"))\n",
    "log_v = math.log(num,5)\n",
    "print(\"log of \",num,\"is : \",log_v)"
   ]
  },
  {
   "cell_type": "markdown",
   "id": "b376faa3",
   "metadata": {},
   "source": [
    "5.\tWrite a Python Program for cube sum of first n natural numbers?"
   ]
  },
  {
   "cell_type": "code",
   "execution_count": 7,
   "id": "0d8711db",
   "metadata": {},
   "outputs": [
    {
     "name": "stdout",
     "output_type": "stream",
     "text": [
      "enter the natural number: 5\n",
      "225\n"
     ]
    }
   ],
   "source": [
    "def cube_sum(n):\n",
    "    sum = 0\n",
    "    for i in range(1,n+1):\n",
    "        sum += i*i*i\n",
    "    return sum\n",
    "num = int(input(\"enter the natural number: \"))\n",
    "print(cube_sum(num))"
   ]
  },
  {
   "cell_type": "code",
   "execution_count": null,
   "id": "164365b2",
   "metadata": {},
   "outputs": [],
   "source": []
  }
 ],
 "metadata": {
  "kernelspec": {
   "display_name": "Python 3 (ipykernel)",
   "language": "python",
   "name": "python3"
  },
  "language_info": {
   "codemirror_mode": {
    "name": "ipython",
    "version": 3
   },
   "file_extension": ".py",
   "mimetype": "text/x-python",
   "name": "python",
   "nbconvert_exporter": "python",
   "pygments_lexer": "ipython3",
   "version": "3.8.8"
  }
 },
 "nbformat": 4,
 "nbformat_minor": 5
}
