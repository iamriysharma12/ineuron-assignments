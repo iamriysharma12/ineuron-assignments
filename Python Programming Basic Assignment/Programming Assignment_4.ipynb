{
 "cells": [
  {
   "cell_type": "markdown",
   "id": "88ef7241",
   "metadata": {},
   "source": [
    " 1.\tWrite a Python Program to Find the Factorial of a Number?"
   ]
  },
  {
   "cell_type": "code",
   "execution_count": 1,
   "id": "9203ac53",
   "metadata": {},
   "outputs": [
    {
     "name": "stdout",
     "output_type": "stream",
     "text": [
      "enter the number: 6\n",
      "720\n"
     ]
    }
   ],
   "source": [
    "\n",
    "def Factorial(n):\n",
    "    if n<0 :\n",
    "        print(\"this number is not valid.\")\n",
    "    elif n==0:\n",
    "        return 1\n",
    "    else: \n",
    "        fact = 1\n",
    "        while(n>1):\n",
    "            fact *= n\n",
    "            n -= 1\n",
    "        return fact\n",
    "num = int(input(\"enter the number: \"))\n",
    "print(Factorial(num))    \n"
   ]
  },
  {
   "cell_type": "markdown",
   "id": "1c5c5265",
   "metadata": {},
   "source": [
    "2.\tWrite a Python Program to Display the multiplication Table?"
   ]
  },
  {
   "cell_type": "code",
   "execution_count": 2,
   "id": "365c06a3",
   "metadata": {},
   "outputs": [
    {
     "name": "stdout",
     "output_type": "stream",
     "text": [
      "enter the number: 4\n",
      "4  x  1  =  4\n",
      "4  x  2  =  8\n",
      "4  x  3  =  12\n",
      "4  x  4  =  16\n",
      "4  x  5  =  20\n",
      "4  x  6  =  24\n",
      "4  x  7  =  28\n",
      "4  x  8  =  32\n",
      "4  x  9  =  36\n",
      "4  x  10  =  40\n"
     ]
    }
   ],
   "source": [
    "num = int(input(\"enter the number: \"))\n",
    "\n",
    "for i in range(1,11):\n",
    "    print(num,\" x \",i,\" = \",num*i)"
   ]
  },
  {
   "cell_type": "markdown",
   "id": "bf29df01",
   "metadata": {},
   "source": [
    "3.\tWrite a Python Program to Print the Fibonacci sequence?"
   ]
  },
  {
   "cell_type": "code",
   "execution_count": 3,
   "id": "501214c8",
   "metadata": {},
   "outputs": [
    {
     "name": "stdout",
     "output_type": "stream",
     "text": [
      "0\n",
      "1\n",
      "1\n",
      "2\n",
      "3\n"
     ]
    }
   ],
   "source": [
    "def fib(n):\n",
    "    a =0\n",
    "    b =1\n",
    "    print(a)\n",
    "    print(b)\n",
    "    for i in range(2,n):\n",
    "        c  = a+b\n",
    "        a = b\n",
    "        b =c\n",
    "        print(c)\n",
    "fib(5)"
   ]
  },
  {
   "cell_type": "markdown",
   "id": "6e08bcc8",
   "metadata": {},
   "source": [
    "4.\tWrite a Python Program to Check Armstrong Number?"
   ]
  },
  {
   "cell_type": "code",
   "execution_count": 5,
   "id": "5c467767",
   "metadata": {},
   "outputs": [
    {
     "name": "stdout",
     "output_type": "stream",
     "text": [
      "enter the armstrong number: 153\n",
      "armstrong number\n"
     ]
    }
   ],
   "source": [
    "num = int(input(\"enter the armstrong number: \"))\n",
    "org =num\n",
    "sum =0\n",
    "order = len(str(num))\n",
    "while (num>0):\n",
    "    digit = num%10\n",
    "    sum = (sum+(digit**order))\n",
    "    num = num//10\n",
    "if (org ==sum ):\n",
    "    print(\"armstrong number\")\n",
    "else:\n",
    "    print(\"its not armstrong number.\")"
   ]
  },
  {
   "cell_type": "markdown",
   "id": "cb2b4ba2",
   "metadata": {},
   "source": [
    "5.\tWrite a Python Program to Find Armstrong Number in an Interval?"
   ]
  },
  {
   "cell_type": "code",
   "execution_count": 4,
   "id": "52f3b2f4",
   "metadata": {},
   "outputs": [
    {
     "name": "stdout",
     "output_type": "stream",
     "text": [
      "enter lower: 20\n",
      "enter upper: 2000\n",
      "153\n",
      "370\n",
      "371\n",
      "407\n",
      "1634\n"
     ]
    }
   ],
   "source": [
    "lower = int(input(\"enter lower: \"))\n",
    "upper = int(input(\"enter upper: \"))\n",
    "for num in range(lower,upper):\n",
    "    temp = num\n",
    "    sum =0 \n",
    "    order =len(str(num))\n",
    "    while temp > 0:\n",
    "        digit = temp%10 \n",
    "        sum = (sum+(digit**order))  \n",
    "        temp = temp//10\n",
    "    if num  == sum:\n",
    "        print(num)\n"
   ]
  },
  {
   "cell_type": "markdown",
   "id": "d4dc7c82",
   "metadata": {},
   "source": [
    "6.\tWrite a Python Program to Find the Sum of Natural Numbers?"
   ]
  },
  {
   "cell_type": "code",
   "execution_count": 6,
   "id": "6c6d4576",
   "metadata": {},
   "outputs": [
    {
     "name": "stdout",
     "output_type": "stream",
     "text": [
      "enter the natural number: 16\n",
      "136\n"
     ]
    }
   ],
   "source": [
    "num = int(input(\"enter the natural number: \"))\n",
    "if num<0:\n",
    "    print(\"please enter the positive number.\")\n",
    "elif num==0:\n",
    "    print(\"its not a natural number\")\n",
    "else:\n",
    "    sum = 0\n",
    "    while(num > 0):\n",
    "        sum =sum +num\n",
    "        num -=1\n",
    "    print(sum)"
   ]
  },
  {
   "cell_type": "code",
   "execution_count": null,
   "id": "9e5bb93f",
   "metadata": {},
   "outputs": [],
   "source": []
  }
 ],
 "metadata": {
  "kernelspec": {
   "display_name": "Python 3",
   "language": "python",
   "name": "python3"
  },
  "language_info": {
   "codemirror_mode": {
    "name": "ipython",
    "version": 3
   },
   "file_extension": ".py",
   "mimetype": "text/x-python",
   "name": "python",
   "nbconvert_exporter": "python",
   "pygments_lexer": "ipython3",
   "version": "3.8.8"
  }
 },
 "nbformat": 4,
 "nbformat_minor": 5
}
