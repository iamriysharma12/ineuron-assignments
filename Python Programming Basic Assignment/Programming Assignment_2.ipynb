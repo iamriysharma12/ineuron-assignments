{
 "cells": [
  {
   "cell_type": "markdown",
   "id": "35d51884",
   "metadata": {},
   "source": [
    "1.\tWrite a Python program to convert kilometers to miles?"
   ]
  },
  {
   "cell_type": "code",
   "execution_count": 8,
   "id": "216012a4",
   "metadata": {},
   "outputs": [
    {
     "name": "stdout",
     "output_type": "stream",
     "text": [
      "enter the km distance: 4\n",
      "distance of  4.0  km is equal to  2.484  miles.\n"
     ]
    }
   ],
   "source": [
    "km = float(input(\"enter the km distance: \"))\n",
    "mi=float(0)\n",
    "c = float(km*0.621)\n",
    "mi= c\n",
    "print(\"distance of \",km,\" km is equal to \",mi,\" miles.\")"
   ]
  },
  {
   "cell_type": "markdown",
   "id": "5cb13af9",
   "metadata": {},
   "source": [
    "2.\tWrite a Python program to convert Celsius to Fahrenheit?"
   ]
  },
  {
   "cell_type": "code",
   "execution_count": 9,
   "id": "0ddce2fe",
   "metadata": {},
   "outputs": [
    {
     "name": "stdout",
     "output_type": "stream",
     "text": [
      "enter the temperature: 2\n",
      "2.0  C is equal to  35.6 F.\n"
     ]
    }
   ],
   "source": [
    "C = float(input(\"enter the temperature: \"))\n",
    "F = (C*9/5)+32\n",
    "print(C,\" C is equal to \",F,\"F.\")"
   ]
  },
  {
   "cell_type": "markdown",
   "id": "b1911067",
   "metadata": {},
   "source": [
    " 3. Write a Python program to display calendar?"
   ]
  },
  {
   "cell_type": "code",
   "execution_count": 2,
   "id": "72009c59",
   "metadata": {},
   "outputs": [
    {
     "name": "stdout",
     "output_type": "stream",
     "text": [
      "   November 2020\n",
      "Mo Tu We Th Fr Sa Su\n",
      "                   1\n",
      " 2  3  4  5  6  7  8\n",
      " 9 10 11 12 13 14 15\n",
      "16 17 18 19 20 21 22\n",
      "23 24 25 26 27 28 29\n",
      "30\n",
      "\n"
     ]
    }
   ],
   "source": [
    "import calendar  \n",
    "cal2=calendar.month(2020,11)\n",
    "print(cal2)  "
   ]
  },
  {
   "cell_type": "markdown",
   "id": "bd7b64b0",
   "metadata": {},
   "source": [
    "4.\tWrite a Python program to solve quadratic equation?"
   ]
  },
  {
   "cell_type": "code",
   "execution_count": 6,
   "id": "e0a83316",
   "metadata": {},
   "outputs": [
    {
     "name": "stdout",
     "output_type": "stream",
     "text": [
      "enter the valueof a: 1\n",
      "enter the valueof b: 10\n",
      "enter the valueof c: -24\n",
      "real and different roots\n",
      "2.0 -12.0 "
     ]
    }
   ],
   "source": [
    "import math\n",
    "\n",
    "def squareroot(a,b,c):\n",
    "    len = (b*b - 4*a*c)\n",
    "    sqrt_v = math.sqrt(abs(len))\n",
    "    \n",
    "    if len>0:\n",
    "        print(\"real and different roots\")\n",
    "        print((-b + sqrt_v)/(2*a),end=\" \")\n",
    "        print((-b - sqrt_v)/(2*a),end=\" \")\n",
    "    elif len==0:\n",
    "        print(\"real and same roots\")\n",
    "        print(-b/(2*a),end=\" \")\n",
    "        \n",
    "    else:\n",
    "        print(\"complex roots \")\n",
    "        print(-b/(2*a),sqrt_v)\n",
    "        print(-b/(2*a),sqrt_v)\n",
    "\n",
    "a = int(input(\"enter the valueof a: \"))\n",
    "b = int(input(\"enter the valueof b: \"))\n",
    "c = int(input(\"enter the valueof c: \"))\n",
    "\n",
    "if a ==0:\n",
    "        print(\"enter the valid equation. \")\n",
    "    \n",
    "else:\n",
    "    squareroot(a,b,c)\n",
    "\n"
   ]
  },
  {
   "cell_type": "markdown",
   "id": "0c76c354",
   "metadata": {},
   "source": [
    "5.\tWrite a Python program to swap two variables without temp variable?\n"
   ]
  },
  {
   "cell_type": "code",
   "execution_count": 7,
   "id": "c7b533d3",
   "metadata": {},
   "outputs": [
    {
     "name": "stdout",
     "output_type": "stream",
     "text": [
      "before enter a: 3\n",
      "after enter b: 4\n",
      "after swaping a:  4\n",
      "after swapingb:  3\n"
     ]
    }
   ],
   "source": [
    "a = int(input(\"before enter a: \"))\n",
    "b = int(input(\"after enter b: \"))\n",
    "a,b=b,a\n",
    "\n",
    "print(\"after swaping a: \",a)\n",
    "print(\"after swapingb: \",b)"
   ]
  },
  {
   "cell_type": "code",
   "execution_count": null,
   "id": "05fc09a0",
   "metadata": {},
   "outputs": [],
   "source": []
  }
 ],
 "metadata": {
  "kernelspec": {
   "display_name": "Python 3",
   "language": "python",
   "name": "python3"
  },
  "language_info": {
   "codemirror_mode": {
    "name": "ipython",
    "version": 3
   },
   "file_extension": ".py",
   "mimetype": "text/x-python",
   "name": "python",
   "nbconvert_exporter": "python",
   "pygments_lexer": "ipython3",
   "version": "3.8.8"
  }
 },
 "nbformat": 4,
 "nbformat_minor": 5
}
