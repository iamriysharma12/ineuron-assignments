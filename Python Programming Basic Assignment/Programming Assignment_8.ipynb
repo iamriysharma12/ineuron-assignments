{
 "cells": [
  {
   "cell_type": "markdown",
   "id": "06d65965",
   "metadata": {},
   "source": [
    "#### 1.\tWrite a Python Program to Add Two Matrices?"
   ]
  },
  {
   "cell_type": "code",
   "execution_count": 1,
   "id": "142523de",
   "metadata": {},
   "outputs": [
    {
     "name": "stdout",
     "output_type": "stream",
     "text": [
      "result =  [8, 10, 12]\n",
      "result =  [10, 9, 9]\n",
      "result =  [12, 7, 10]\n"
     ]
    }
   ],
   "source": [
    "A = [[3,4,5],\n",
    "    [4,5,6],\n",
    "    [6,5,6]]\n",
    "B = [[5,6,7],\n",
    "     [6,4,3],\n",
    "     [6,2,4]]\n",
    "\n",
    "result = [[0,0,0],\n",
    "         [0,0,0],\n",
    "         [0,0,0]]\n",
    "for i in range(len(A)):\n",
    "     for j in range(len(A[0])):\n",
    "          result[i][j] = A[i][j]+B[i][j]\n",
    "for r in result:\n",
    "     print(\"result = \",r)"
   ]
  },
  {
   "cell_type": "markdown",
   "id": "5a10234d",
   "metadata": {},
   "source": [
    "#### 2.\tWrite a Python Program to Multiply Two Matrices?"
   ]
  },
  {
   "cell_type": "code",
   "execution_count": 2,
   "id": "72247047",
   "metadata": {},
   "outputs": [
    {
     "name": "stdout",
     "output_type": "stream",
     "text": [
      "[6, 8, 10]\n",
      "[8, 10, 12]\n",
      "[12, 10, 12]\n"
     ]
    }
   ],
   "source": [
    "A = [[3,4,5],\n",
    "    [4,5,6],\n",
    "    [6,5,6]]\n",
    "B = [[2,2,2],\n",
    "     [2,2,2],\n",
    "     [2,2,2]]\n",
    "\n",
    "result = [[0,0,0],\n",
    "         [0,0,0],\n",
    "         [0,0,0]]\n",
    "for i in range(len(A)):\n",
    "    for j in range(len(A[0])):\n",
    "        result[i][j] = A[i][j] * B[i][j]\n",
    "for r in result:\n",
    "    print(r)"
   ]
  },
  {
   "cell_type": "markdown",
   "id": "f5e966b4",
   "metadata": {},
   "source": [
    "#### 3.\tWrite a Python Program to Transpose a Matrix?\n"
   ]
  },
  {
   "cell_type": "code",
   "execution_count": 3,
   "id": "41b55415",
   "metadata": {},
   "outputs": [
    {
     "name": "stdout",
     "output_type": "stream",
     "text": [
      "[[2, 1, 5], [3, 3, 3], [4, 4, 2]]\n"
     ]
    }
   ],
   "source": [
    "a = [[2,3,4],\n",
    "     [1,3,4],\n",
    "     [5,3,2]]\n",
    "temp = [[0,0,0],\n",
    "        [0,0,0],\n",
    "        [0,0,0]]\n",
    "\n",
    "for i in range(len(a)):\n",
    "    for j in range(len(a[0])):\n",
    "        temp[j][i] = a[i][j]\n",
    "print(temp)"
   ]
  },
  {
   "cell_type": "markdown",
   "id": "ee3fd9e9",
   "metadata": {},
   "source": [
    "### 4.\tWrite a Python Program to Sort Words in Alphabetic Order?"
   ]
  },
  {
   "cell_type": "code",
   "execution_count": 4,
   "id": "565dabb4",
   "metadata": {},
   "outputs": [
    {
     "name": "stdout",
     "output_type": "stream",
     "text": [
      "enter the string: i am riya sharma and i love machine learning.\n",
      "am\n",
      "and\n",
      "i\n",
      "i\n",
      "learning.\n",
      "love\n",
      "machine\n",
      "riya\n",
      "sharma\n"
     ]
    }
   ],
   "source": [
    "words = str(input(\"enter the string: \"))\n",
    "w = words.split()\n",
    "w.sort()\n",
    "for w in w:\n",
    "    print(w)"
   ]
  },
  {
   "cell_type": "markdown",
   "id": "34506e1a",
   "metadata": {},
   "source": [
    "#### 5.\tWrite a Python Program to Remove Punctuation From a String?"
   ]
  },
  {
   "cell_type": "code",
   "execution_count": 9,
   "id": "7bb3b5a8",
   "metadata": {},
   "outputs": [
    {
     "name": "stdout",
     "output_type": "stream",
     "text": [
      "enter the string: hey!!! have you completed your assignment\n",
      " hey have you completed your assignment\n"
     ]
    }
   ],
   "source": [
    "punctuation = \"!@#$%^&*():<>?.\"\n",
    "my_str = str(input(\"enter the string: \"))\n",
    "no_pun = \" \"\n",
    "for char in my_str:\n",
    "    if char not in punctuation:\n",
    "        no_pun +=char\n",
    "print(no_pun)"
   ]
  },
  {
   "cell_type": "code",
   "execution_count": null,
   "id": "2601b6ac",
   "metadata": {},
   "outputs": [],
   "source": []
  }
 ],
 "metadata": {
  "kernelspec": {
   "display_name": "Python 3 (ipykernel)",
   "language": "python",
   "name": "python3"
  },
  "language_info": {
   "codemirror_mode": {
    "name": "ipython",
    "version": 3
   },
   "file_extension": ".py",
   "mimetype": "text/x-python",
   "name": "python",
   "nbconvert_exporter": "python",
   "pygments_lexer": "ipython3",
   "version": "3.8.8"
  }
 },
 "nbformat": 4,
 "nbformat_minor": 5
}
