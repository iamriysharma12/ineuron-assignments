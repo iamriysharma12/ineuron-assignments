{
 "cells": [
  {
   "cell_type": "markdown",
   "id": "d1a6346f",
   "metadata": {},
   "source": [
    "1.) 1.\tWrite a Python program to print \"Hello Python\"?"
   ]
  },
  {
   "cell_type": "code",
   "execution_count": 3,
   "id": "a87eff2c",
   "metadata": {},
   "outputs": [
    {
     "name": "stdout",
     "output_type": "stream",
     "text": [
      "Hello Python\n"
     ]
    }
   ],
   "source": [
    "a = \"Hello Python\"\n",
    "print(a)"
   ]
  },
  {
   "cell_type": "markdown",
   "id": "f020bd39",
   "metadata": {},
   "source": [
    "2.) 2.\tWrite a Python program to do arithmetical operations addition and division.?"
   ]
  },
  {
   "cell_type": "markdown",
   "id": "e4ce1f46",
   "metadata": {},
   "source": [
    "## addition "
   ]
  },
  {
   "cell_type": "code",
   "execution_count": 5,
   "id": "9fb3fcef",
   "metadata": {},
   "outputs": [
    {
     "name": "stdout",
     "output_type": "stream",
     "text": [
      "sum of a and b is:  11\n"
     ]
    }
   ],
   "source": [
    "a = 5\n",
    "b = 6\n",
    "print(\"sum of a and b is: \",a+b)"
   ]
  },
  {
   "cell_type": "markdown",
   "id": "e7a6c033",
   "metadata": {},
   "source": [
    "# division"
   ]
  },
  {
   "cell_type": "code",
   "execution_count": 6,
   "id": "c7858054",
   "metadata": {},
   "outputs": [
    {
     "name": "stdout",
     "output_type": "stream",
     "text": [
      "when dividing a and b, answer will be:  6.0\n"
     ]
    }
   ],
   "source": [
    "a = 60\n",
    "b = 10\n",
    "print(\"when dividing a and b, answer will be: \",a/b)"
   ]
  },
  {
   "cell_type": "markdown",
   "id": "4f122289",
   "metadata": {},
   "source": [
    "3.) 3.\tWrite a Python program to find the area of a triangle?"
   ]
  },
  {
   "cell_type": "code",
   "execution_count": 12,
   "id": "14e945a9",
   "metadata": {},
   "outputs": [
    {
     "name": "stdout",
     "output_type": "stream",
     "text": [
      "enter the 1st value: 10\n",
      "enter the 2nd value: 5\n",
      "enter the 3rd value: 6\n",
      "area of the triangle:  11.399013115177997\n"
     ]
    }
   ],
   "source": [
    "#if the triangle have 3 different side the to take out area of traingle is:\n",
    "\n",
    "a = int(input(\"enter the 1st value: \"))\n",
    "b = int(input(\"enter the 2nd value: \"))\n",
    "c = int(input(\"enter the 3rd value: \"))\n",
    "s = (a+b+c)/2\n",
    "area  = (s*(s-a)*(s-b)*(s-c))**0.5\n",
    "print(\"area of the triangle: \",area)"
   ]
  },
  {
   "cell_type": "markdown",
   "id": "6f6a794a",
   "metadata": {},
   "source": [
    "4.\tWrite a Python program to swap two variables?"
   ]
  },
  {
   "cell_type": "code",
   "execution_count": 4,
   "id": "ce8c39b2",
   "metadata": {},
   "outputs": [
    {
     "name": "stdout",
     "output_type": "stream",
     "text": [
      "enter the value of a: 1\n",
      "enter the value of b: 2\n",
      "2 1\n"
     ]
    }
   ],
   "source": [
    "a = int(input(\"enter the value of a: \"))\n",
    "b = int(input(\"enter the value of b: \"))\n",
    "c = a\n",
    "a = b\n",
    "b = c\n",
    "print(a,b)"
   ]
  },
  {
   "cell_type": "markdown",
   "id": "cb654bd6",
   "metadata": {},
   "source": [
    "5.\tWrite a Python program to generate a random number?"
   ]
  },
  {
   "cell_type": "code",
   "execution_count": 7,
   "id": "88d45072",
   "metadata": {},
   "outputs": [
    {
     "name": "stdout",
     "output_type": "stream",
     "text": [
      "7\n"
     ]
    }
   ],
   "source": [
    "import random\n",
    "n = random.randint(0,22)\n",
    "print(n)"
   ]
  },
  {
   "cell_type": "markdown",
   "id": "3679ff98",
   "metadata": {},
   "source": [
    "### for random number list"
   ]
  },
  {
   "cell_type": "code",
   "execution_count": 14,
   "id": "0b238790",
   "metadata": {},
   "outputs": [
    {
     "name": "stdout",
     "output_type": "stream",
     "text": [
      "[22]\n"
     ]
    }
   ],
   "source": [
    "import random\n",
    "ranlist = []\n",
    "for i in range(0,5):\n",
    "    n = random.randint(0,30)\n",
    "ranlist.append(n)\n",
    "print(ran)"
   ]
  }
 ],
 "metadata": {
  "kernelspec": {
   "display_name": "Python 3",
   "language": "python",
   "name": "python3"
  },
  "language_info": {
   "codemirror_mode": {
    "name": "ipython",
    "version": 3
   },
   "file_extension": ".py",
   "mimetype": "text/x-python",
   "name": "python",
   "nbconvert_exporter": "python",
   "pygments_lexer": "ipython3",
   "version": "3.8.8"
  }
 },
 "nbformat": 4,
 "nbformat_minor": 5
}
