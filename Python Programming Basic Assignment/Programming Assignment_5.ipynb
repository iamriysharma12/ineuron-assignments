{
 "cells": [
  {
   "cell_type": "markdown",
   "id": "6b1cea0e",
   "metadata": {},
   "source": [
    "1.\tWrite a Python Program to Find LCM?"
   ]
  },
  {
   "cell_type": "code",
   "execution_count": 3,
   "id": "4ae44dcc",
   "metadata": {},
   "outputs": [
    {
     "name": "stdout",
     "output_type": "stream",
     "text": [
      "enter x: 5\n",
      "enter y: 6\n",
      "30\n"
     ]
    }
   ],
   "source": [
    "def cal_lcm(x,y):\n",
    "    if x > y:\n",
    "        greater = x\n",
    "    else:\n",
    "        greater = y\n",
    "    while(True):\n",
    "        if((greater%x == 0) and (greater %y==0)):\n",
    "            lcm = greater\n",
    "            break\n",
    "        else:\n",
    "            greater += 1\n",
    "    return lcm\n",
    "x = int(input(\"enter x: \"))\n",
    "y = int(input(\"enter y: \"))\n",
    "print(cal_lcm(x,y))\n"
   ]
  },
  {
   "cell_type": "markdown",
   "id": "c70b3891",
   "metadata": {},
   "source": [
    "2.\tWrite a Python Program to Find HCF?"
   ]
  },
  {
   "cell_type": "code",
   "execution_count": 4,
   "id": "73c29862",
   "metadata": {},
   "outputs": [
    {
     "name": "stdout",
     "output_type": "stream",
     "text": [
      "enter the x value: 4\n",
      "enter the y value: 24\n",
      "4\n"
     ]
    }
   ],
   "source": [
    "def cal_hcf(x,y):\n",
    "    if x >y:\n",
    "        lower = y\n",
    "    else:\n",
    "        lower = x\n",
    "    for i in range(1,lower+1):\n",
    "        if ((x % i ==0) and (y%i ==0)):\n",
    "            hcf = i\n",
    "    return hcf \n",
    "x = int(input(\"enter the x value: \"))\n",
    "y = int(input(\"enter the y value: \"))\n",
    "print(cal_hcf(x, y))"
   ]
  },
  {
   "cell_type": "markdown",
   "id": "773f094c",
   "metadata": {},
   "source": [
    "3.\tWrite a Python Program to Convert Decimal to Binary, Octal and Hexadecimal?"
   ]
  },
  {
   "cell_type": "code",
   "execution_count": 6,
   "id": "56aed714",
   "metadata": {},
   "outputs": [
    {
     "name": "stdout",
     "output_type": "stream",
     "text": [
      "binary digit  0b101011000\n",
      "hexadecimal  0x158\n",
      "octadecimal  0o530\n"
     ]
    }
   ],
   "source": [
    "dec = 344\n",
    "print(\"binary digit \" ,bin(dec))\n",
    "print(\"hexadecimal \",hex(dec))\n",
    "print(\"octadecimal \",oct(dec))"
   ]
  },
  {
   "cell_type": "markdown",
   "id": "a4fdf859",
   "metadata": {},
   "source": [
    "4.\tWrite a Python Program To Find ASCII value of a character?"
   ]
  },
  {
   "cell_type": "code",
   "execution_count": 8,
   "id": "301e6303",
   "metadata": {},
   "outputs": [
    {
     "name": "stdout",
     "output_type": "stream",
     "text": [
      "ASCII value of a is  97\n"
     ]
    }
   ],
   "source": [
    "word = 'a'\n",
    "print(\"ASCII value of a is \",ord(word))"
   ]
  },
  {
   "cell_type": "markdown",
   "id": "703134bd",
   "metadata": {},
   "source": [
    "5.\tWrite a Python Program to Make a Simple Calculator with 4 basic mathematical operations?"
   ]
  },
  {
   "cell_type": "code",
   "execution_count": 9,
   "id": "33185dce",
   "metadata": {},
   "outputs": [
    {
     "name": "stdout",
     "output_type": "stream",
     "text": [
      "Please select operation among \n",
      "  1. Addition\n",
      " 2. subtraction\n",
      "3. division \n",
      "4. multiplication\n",
      "\n",
      "enter the your chocie among 1, 2,3,4: 2\n",
      "enter the first digit: 4\n",
      "enter the second digit: 5\n",
      "answer  of subtraction is:  -1.0\n"
     ]
    }
   ],
   "source": [
    "def addition(num1, num2):\n",
    "    return num1 + num2 \n",
    "def sub(num1,num2):\n",
    "    return num1 - num2\n",
    "def division(num1, num2):\n",
    "    return num1/ num2\n",
    "def multi(num1, num2):\n",
    "    return num1 * num2\n",
    "\n",
    "print(\"Please select operation among \\n \"\\\n",
    "                \" 1. Addition\\n\" \\\n",
    "                \" 2. subtraction\\n\"\\\n",
    "                \"3. division \\n\"\\\n",
    "                \"4. multiplication\\n\")\n",
    "\n",
    "\n",
    "\n",
    "\n",
    "select = int(input(\"enter the your chocie among 1, 2,3,4: \"))\n",
    "\n",
    "num1 = float(input(\"enter the first digit: \"))\n",
    "num2 = float(input(\"enter the second digit: \"))\n",
    "\n",
    "if select == 1:\n",
    "    print(\"answer  of addition is: \",addition(num1, num2))\n",
    "elif select == 2:\n",
    "    print(\"answer  of subtraction is: \",sub(num1, num2))\n",
    "elif select == 3:\n",
    "    print(\"answer  of division is: \",division(num1, num2))\n",
    "elif select == 4:\n",
    "    print(\"answer  of multiplication is: \",multi(num1, num2))\n",
    "else:\n",
    "    print(\"INVALID ENTRY\")  \n",
    "    "
   ]
  },
  {
   "cell_type": "code",
   "execution_count": null,
   "id": "858c4fce",
   "metadata": {},
   "outputs": [],
   "source": []
  }
 ],
 "metadata": {
  "kernelspec": {
   "display_name": "Python 3 (ipykernel)",
   "language": "python",
   "name": "python3"
  },
  "language_info": {
   "codemirror_mode": {
    "name": "ipython",
    "version": 3
   },
   "file_extension": ".py",
   "mimetype": "text/x-python",
   "name": "python",
   "nbconvert_exporter": "python",
   "pygments_lexer": "ipython3",
   "version": "3.8.8"
  }
 },
 "nbformat": 4,
 "nbformat_minor": 5
}
