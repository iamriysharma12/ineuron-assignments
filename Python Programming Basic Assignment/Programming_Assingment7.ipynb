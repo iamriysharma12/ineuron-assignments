{
 "cells": [
  {
   "cell_type": "markdown",
   "id": "9f912680",
   "metadata": {},
   "source": [
    "#### 1.\tWrite a Python Program to find sum of array?"
   ]
  },
  {
   "cell_type": "code",
   "execution_count": 1,
   "id": "61a9f600",
   "metadata": {},
   "outputs": [
    {
     "name": "stdout",
     "output_type": "stream",
     "text": [
      "15\n"
     ]
    }
   ],
   "source": [
    "def sum_arr(arr):\n",
    "    sum = 0\n",
    "    for i in arr:\n",
    "        sum = sum+ i\n",
    "    return sum\n",
    "arr = []\n",
    "arr = [1,2,3,4,5]\n",
    "n = len(arr)\n",
    "print(sum_arr(arr))"
   ]
  },
  {
   "cell_type": "markdown",
   "id": "8a953307",
   "metadata": {},
   "source": [
    "#### 2.\tWrite a Python Program to find largest element in an array?\n"
   ]
  },
  {
   "cell_type": "code",
   "execution_count": 2,
   "id": "c11d3c19",
   "metadata": {},
   "outputs": [
    {
     "name": "stdout",
     "output_type": "stream",
     "text": [
      "14\n"
     ]
    }
   ],
   "source": [
    "def largest(arr,n):\n",
    "    max = arr[0]\n",
    "    for i in range(1,n):\n",
    "        if arr[i]>max:\n",
    "            max = arr[i]\n",
    "    return max\n",
    "arr = []\n",
    "arr = [10,12,13,14,6,5,7]\n",
    "n = len(arr)\n",
    "print(largest(arr, n))"
   ]
  },
  {
   "cell_type": "markdown",
   "id": "e4657f8a",
   "metadata": {},
   "source": [
    "#### 3.\tWrite a Python Program for array rotation?\n"
   ]
  },
  {
   "cell_type": "code",
   "execution_count": 3,
   "id": "380364fb",
   "metadata": {},
   "outputs": [
    {
     "name": "stdout",
     "output_type": "stream",
     "text": [
      "enter the size of array: 5\n",
      "enter the value in array: 2\n",
      "enter the value in array: 3\n",
      "enter the value in array: 4\n",
      "enter the value in array: 5\n",
      "enter the value in array: 6\n",
      "original array:  [2, 3, 4, 5, 6]\n",
      "enter the num you need to shift: 3\n",
      "modified array [5, 6, 2, 3, 4]\n"
     ]
    }
   ],
   "source": [
    "arr = []\n",
    "size = int(input(\"enter the size of array: \"))\n",
    "for i in range(size):\n",
    "    value = int(input(\"enter the value in array: \"))\n",
    "    arr.append(value)\n",
    "print(\"original array: \",arr)\n",
    "num = int(input(\"enter the num you need to shift: \"))\n",
    "for count in range(num):\n",
    "    x = arr[0]\n",
    "    for i in range(1,size):\n",
    "        arr[i-1]= arr[i]\n",
    "    arr[size-1]=x\n",
    "print(\"modified array\",arr)"
   ]
  },
  {
   "cell_type": "markdown",
   "id": "bcc02789",
   "metadata": {},
   "source": [
    "#### 4.\tWrite a Python Program to Split the array and add the first part to the end?\n"
   ]
  },
  {
   "cell_type": "code",
   "execution_count": 4,
   "id": "2722e37d",
   "metadata": {},
   "outputs": [
    {
     "name": "stdout",
     "output_type": "stream",
     "text": [
      "4 5 6 7 8 2 3 "
     ]
    }
   ],
   "source": [
    "def split(arr, size ,k):\n",
    "    for count in range(0,k):   #0 = 2  k = 4   loop will work till 3\n",
    "        x = arr[0]   # x = 2\n",
    "        for i in range(0,size-1):   # 0= 3 \n",
    "            arr[i]= arr[i+1]\n",
    "        arr[size-1]= x \n",
    "    \n",
    "arr = [2,3,4,5,6,7,8]\n",
    "size = len(arr)\n",
    "k= 2 \n",
    "split(arr, size, k)\n",
    "for i in range(0,size):\n",
    "    print(arr[i],end=\" \")\n"
   ]
  },
  {
   "cell_type": "markdown",
   "id": "7b7804d2",
   "metadata": {},
   "source": [
    "#### 5.\tWrite a Python Program to check if given array is Monotonic?"
   ]
  },
  {
   "cell_type": "code",
   "execution_count": 5,
   "id": "7f4eda9a",
   "metadata": {},
   "outputs": [
    {
     "name": "stdout",
     "output_type": "stream",
     "text": [
      "True\n"
     ]
    }
   ],
   "source": [
    "def ismonotonic(arr):\n",
    "    return (all(arr[i]<=arr[i+1] for i in range(len(arr)-1)) or\n",
    "           all(arr[i]>= arr[i+1] for i in range(len(arr)-1)))\n",
    "\n",
    "arr= [4,5,6,7,8]\n",
    "print(ismonotonic(arr))"
   ]
  },
  {
   "cell_type": "code",
   "execution_count": null,
   "id": "358b4397",
   "metadata": {},
   "outputs": [],
   "source": []
  }
 ],
 "metadata": {
  "kernelspec": {
   "display_name": "Python 3 (ipykernel)",
   "language": "python",
   "name": "python3"
  },
  "language_info": {
   "codemirror_mode": {
    "name": "ipython",
    "version": 3
   },
   "file_extension": ".py",
   "mimetype": "text/x-python",
   "name": "python",
   "nbconvert_exporter": "python",
   "pygments_lexer": "ipython3",
   "version": "3.8.8"
  }
 },
 "nbformat": 4,
 "nbformat_minor": 5
}
