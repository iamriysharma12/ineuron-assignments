{
 "cells": [
  {
   "cell_type": "markdown",
   "id": "a982bc02",
   "metadata": {},
   "source": [
    "q.1).What are the two values of the Boolean data type? How do you write them?"
   ]
  },
  {
   "cell_type": "markdown",
   "id": "f040f8ec",
   "metadata": {},
   "source": [
    "ANS.)The two values of Boolean data types are True and False and also they are written as 'True' and 'False'."
   ]
  },
  {
   "cell_type": "markdown",
   "id": "4be70dc9",
   "metadata": {},
   "source": [
    "q.2). What are the three different types of Boolean operators"
   ]
  },
  {
   "cell_type": "markdown",
   "id": "fa70fe81",
   "metadata": {},
   "source": [
    "ANS.) three different type of Boolean operators are as follows:\n",
    "     and , or , not."
   ]
  },
  {
   "cell_type": "markdown",
   "id": "09ca9559",
   "metadata": {},
   "source": [
    "q.3) Make a list of each Boolean operator's truth tables (i.e. every possible combination of Boolean values for the operator and what it evaluate )."
   ]
  },
  {
   "cell_type": "raw",
   "id": "5c03add4",
   "metadata": {},
   "source": [
    "AND Truth Table\n",
    "x\tand\ty\tReturns\n",
    "True\tand\tTrue\tTrue\n",
    "True\tand\tFalse\tFalse\n",
    "False\tand\tTrue\tFalse\n",
    "False\tand\tFalse\tFalse\n",
    "OR Truth Table\n",
    "x\tor\ty\tReturns\n",
    "True\tor\tTrue\tTrue\n",
    "True\tor\tFalse\tTrue\n",
    "False\tor\tTrue\tTrue\n",
    "False\tor\tFalse\tFalse\n",
    "NOT Truth Table\n",
    "not\tx\tReturns\n",
    "not\tTrue\tFalse\n",
    "not\tFalse\tTrue"
   ]
  },
  {
   "cell_type": "markdown",
   "id": "58e583ad",
   "metadata": {},
   "source": [
    "4. What are the values of the following expressions?"
   ]
  },
  {
   "cell_type": "markdown",
   "id": "9859d044",
   "metadata": {},
   "source": [
    "(5 > 4) and (3 == 5)   IS FALSE"
   ]
  },
  {
   "cell_type": "markdown",
   "id": "853e7619",
   "metadata": {},
   "source": [
    "not (5 > 4) IS FALSE"
   ]
  },
  {
   "cell_type": "markdown",
   "id": "c2bb9280",
   "metadata": {},
   "source": [
    "(5 > 4) or (3 == 5) IS TRUE"
   ]
  },
  {
   "cell_type": "markdown",
   "id": "bd7b046e",
   "metadata": {},
   "source": [
    "not ((5 > 4) or (3 == 5)) IS FALSE"
   ]
  },
  {
   "cell_type": "markdown",
   "id": "7a89e6f9",
   "metadata": {},
   "source": [
    "(True and True) and (True == False) IS FALSE"
   ]
  },
  {
   "cell_type": "markdown",
   "id": "c04ba473",
   "metadata": {},
   "source": [
    "(not False) or (not True)   IS TRUE"
   ]
  },
  {
   "cell_type": "markdown",
   "id": "1344976a",
   "metadata": {},
   "source": [
    "Q.5) What are the six comparison operators?"
   ]
  },
  {
   "cell_type": "markdown",
   "id": "2c901380",
   "metadata": {},
   "source": [
    "ANS )\" == \"IS EQUAL TO , \"<\" LESS THAN ,\">\" GREATER THAN , \"=<\" LESS THAN OR EQUAL TO ,\">=\" IS MORE THAN OR EQUAL TO ,\"=/\" NOT EQUAL TO"
   ]
  },
  {
   "cell_type": "markdown",
   "id": "5201367c",
   "metadata": {},
   "source": [
    "Q.6. How do you tell the difference between the equal to and assignment operators?Describe a condition and when you would use one."
   ]
  },
  {
   "cell_type": "markdown",
   "id": "07b6b2e2",
   "metadata": {},
   "source": [
    "\"=\" Is assignment operator when variable is on left and value is in right side .  \n",
    " eg : A = 65 (here A is variable and 64 is value of variable A.)\n",
    "\"==\" is a equal to sign which tells if two variable's value is equal or not.   \n",
    " eg : 5 == 5 ( we tell that both are equal .)"
   ]
  },
  {
   "cell_type": "markdown",
   "id": "6e04a2af",
   "metadata": {},
   "source": [
    "Q.7) . Identify the three blocks in this code:"
   ]
  },
  {
   "cell_type": "markdown",
   "id": "56193c0b",
   "metadata": {},
   "source": [
    "spam = 0\n",
    "if spam == 10:\n",
    "print('eggs')\n",
    "if spam > 5:\n",
    "print('bacon')\n",
    "else:\n",
    "print('ham')\n",
    "print('spam')\n",
    "print('spam')\n"
   ]
  },
  {
   "cell_type": "markdown",
   "id": "14631c93",
   "metadata": {},
   "source": [
    "ANS.) The three blocks of this code is everthing inside (if statement ) and  the line print('bacon') and print('ham')"
   ]
  },
  {
   "cell_type": "markdown",
   "id": "6bbdb55d",
   "metadata": {},
   "source": [
    "if spam > 5:\n",
    "  print('bacon')\n",
    "else:\n",
    "  print('ham')\n",
    "  print('spam')"
   ]
  },
  {
   "cell_type": "markdown",
   "id": "9402def7",
   "metadata": {},
   "source": [
    "Q 8.) Write code that prints Hello if 1 is stored in spam, prints Howdy if 2 is stored in spam, and prints Greetings! if anything else is stored in spam."
   ]
  },
  {
   "cell_type": "code",
   "execution_count": 12,
   "id": "7e9277f7",
   "metadata": {},
   "outputs": [
    {
     "name": "stdout",
     "output_type": "stream",
     "text": [
      "1\n",
      "Greetings!\n"
     ]
    }
   ],
   "source": [
    "spam = input()\n",
    "if spam == 1:\n",
    "    print(\"Hello\")\n",
    "elif spam == 2:\n",
    "    print(\"Howdy\")\n",
    "else: \n",
    "    print(\"Greetings!\")"
   ]
  },
  {
   "cell_type": "code",
   "execution_count": 15,
   "id": "ea726456",
   "metadata": {},
   "outputs": [
    {
     "name": "stdout",
     "output_type": "stream",
     "text": [
      "2\n",
      "Greetings!\n"
     ]
    }
   ],
   "source": [
    "spam = input()\n",
    "if spam == 1:\n",
    "    print('Hello')\n",
    "elif spam == 2:\n",
    "    print('Howdy')\n",
    "else:\n",
    "    print('Greetings!')"
   ]
  },
  {
   "cell_type": "code",
   "execution_count": 16,
   "id": "61d4b67a",
   "metadata": {},
   "outputs": [
    {
     "name": "stdout",
     "output_type": "stream",
     "text": [
      "5\n",
      "Greetings!\n"
     ]
    }
   ],
   "source": [
    "spam = input()\n",
    "if spam == 1:\n",
    "    print('Hello')\n",
    "elif spam == 2:\n",
    "    print('Howdy')\n",
    "else:\n",
    "    print('Greetings!')"
   ]
  },
  {
   "cell_type": "markdown",
   "id": "6abf5de5",
   "metadata": {},
   "source": [
    "Q9.).If your programme is stuck in an endless loop, what keys you’ll press?"
   ]
  },
  {
   "cell_type": "markdown",
   "id": "f324e13b",
   "metadata": {},
   "source": [
    "ans.) cntrl + C"
   ]
  },
  {
   "cell_type": "markdown",
   "id": "bd85198a",
   "metadata": {},
   "source": [
    "Q.10.)How can you tell the difference between break and continue?"
   ]
  },
  {
   "cell_type": "markdown",
   "id": "cdbdc75a",
   "metadata": {},
   "source": [
    " In  programming language 'BREAK' means breaking or stop the continuation of loop and come out of the loop. \"continue \"The 'continue' does not stop the continuation of loop and it stops the current.Cannot be executed with switch and the labels."
   ]
  },
  {
   "cell_type": "markdown",
   "id": "cc32de0f",
   "metadata": {},
   "source": [
    "Q 11.) . In a for loop, what is the difference between range(10), range(0, 10), and range(0, 10, 1)?"
   ]
  },
  {
   "cell_type": "markdown",
   "id": "1c8a6f22",
   "metadata": {},
   "source": [
    "In for loop :\n",
    "    range(star_value, end_value,step)"
   ]
  },
  {
   "cell_type": "markdown",
   "id": "b15e319e",
   "metadata": {},
   "source": [
    "ANS.) In for loop : range(star_value, end_value,step) or range(start,stop,step)\n",
    "    so if we write range(10)  it will be range(stop) which means it will allow to genertate the series within this range, which is 10 here and exclude 10 . \n",
    "    for range(0,10) it will mean range(start,stop) means series will start from 0 and end within the range 10 excluding 10th value.\n",
    "    for range(0,10,1)it means range(start,stop,step)means start drom 0 end at 10 and difference btw digits will be 1."
   ]
  },
  {
   "cell_type": "markdown",
   "id": "1f2dde13",
   "metadata": {},
   "source": [
    "Q12. Write a short program that prints the numbers 1 to 10 using a for loop. Then write an equivalent program that prints the numbers 1 to 10 using a while loop."
   ]
  },
  {
   "cell_type": "code",
   "execution_count": 28,
   "id": "fc767efb",
   "metadata": {},
   "outputs": [
    {
     "name": "stdout",
     "output_type": "stream",
     "text": [
      "1\n",
      "2\n",
      "3\n",
      "4\n",
      "5\n",
      "6\n",
      "7\n",
      "8\n",
      "9\n",
      "10\n"
     ]
    }
   ],
   "source": [
    "#FOR LOOP\n",
    "i = 1\n",
    "for i in range(i,11):\n",
    "    print(i)\n",
    "    i+=1"
   ]
  },
  {
   "cell_type": "code",
   "execution_count": 23,
   "id": "6099d6db",
   "metadata": {},
   "outputs": [
    {
     "name": "stdout",
     "output_type": "stream",
     "text": [
      "1\n",
      "2\n",
      "3\n",
      "4\n",
      "5\n",
      "6\n",
      "7\n",
      "8\n",
      "9\n",
      "10\n"
     ]
    }
   ],
   "source": [
    "# WHILE LOOP\n",
    "i =1 \n",
    "while i in range(1,11):\n",
    "    print(i)\n",
    "    i +=1"
   ]
  },
  {
   "cell_type": "markdown",
   "id": "c4fbc1fd",
   "metadata": {},
   "source": [
    "Q13. If you had a function named bacon() inside a module named spam, how would you call it after importing spam?"
   ]
  },
  {
   "cell_type": "markdown",
   "id": "9cdc8452",
   "metadata": {},
   "source": [
    " ANS.)  If you had a function named bacon() inside a module named spam, how would you call it after importing spam ? This function can be called with spam. bacon()."
   ]
  },
  {
   "cell_type": "code",
   "execution_count": null,
   "id": "2e224c99",
   "metadata": {},
   "outputs": [],
   "source": []
  }
 ],
 "metadata": {
  "kernelspec": {
   "display_name": "Python 3",
   "language": "python",
   "name": "python3"
  },
  "language_info": {
   "codemirror_mode": {
    "name": "ipython",
    "version": 3
   },
   "file_extension": ".py",
   "mimetype": "text/x-python",
   "name": "python",
   "nbconvert_exporter": "python",
   "pygments_lexer": "ipython3",
   "version": "3.8.8"
  }
 },
 "nbformat": 4,
 "nbformat_minor": 5
}
